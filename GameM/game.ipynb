{
 "cells": [
  {
   "cell_type": "markdown",
   "metadata": {},
   "source": [
    "## Поиск автоматически загаданного случайного числа методом быстрого поиска."
   ]
  },
  {
   "cell_type": "markdown",
   "metadata": {},
   "source": [
    "### Функция score_game находит среднее количество попыток поиска загаданного числа заданной функцией и выводит как среднее количество попыток, так и наименование функции, с помощью которой попытки были произведены."
   ]
  },
  {
   "cell_type": "markdown",
   "metadata": {},
   "source": [
    "### Принцип работы метода следующий:\n",
    "*\tЕсли число не 100, то\n",
    "* *\t    находим середину диапазона поиска;\n",
    "* *\t    отвечаем на вопрос, равно ли число \"середине\";\n",
    "* *     уменьшаем диапазон согласно ответу на вопрос;\n",
    "* \tи так по кругу."
   ]
  },
  {
   "cell_type": "code",
   "execution_count": 7,
   "metadata": {},
   "outputs": [
    {
     "name": "stdout",
     "output_type": "stream",
     "text": [
      "The algorithm of the function (Speed_predict) guesses the number on average for: 5 attempts\n",
      "Перевод: среднее значение попыток на 1000 проверок - 5\n"
     ]
    }
   ],
   "source": [
    "from game2 import score_game\n",
    "#from game2 import random_predict\n",
    "from game2 import speed_predict\n",
    "\n",
    "#score_game(random_predict)\n",
    "mean_value=score_game(speed_predict)\n",
    "print(f'Перевод: среднее значение попыток на 1000 проверок - {mean_value}')\n"
   ]
  }
 ],
 "metadata": {
  "interpreter": {
   "hash": "a2eb2e74bf23049ffa7a6cf9bb03519e050d41249b116fd5e76a9191c3d1ff23"
  },
  "kernelspec": {
   "display_name": "Python 3.9.7 64-bit ('base': conda)",
   "language": "python",
   "name": "python3"
  },
  "language_info": {
   "codemirror_mode": {
    "name": "ipython",
    "version": 3
   },
   "file_extension": ".py",
   "mimetype": "text/x-python",
   "name": "python",
   "nbconvert_exporter": "python",
   "pygments_lexer": "ipython3",
   "version": "3.9.7"
  },
  "orig_nbformat": 4
 },
 "nbformat": 4,
 "nbformat_minor": 2
}
