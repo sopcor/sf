{
 "cells": [
  {
   "cell_type": "code",
   "execution_count": 1,
   "id": "d89fef1b",
   "metadata": {
    "execution": {
     "iopub.execute_input": "2022-07-06T08:30:57.283415Z",
     "iopub.status.busy": "2022-07-06T08:30:57.282946Z",
     "iopub.status.idle": "2022-07-06T08:30:58.452573Z",
     "shell.execute_reply": "2022-07-06T08:30:58.451439Z"
    },
    "papermill": {
     "duration": 1.181483,
     "end_time": "2022-07-06T08:30:58.455640",
     "exception": false,
     "start_time": "2022-07-06T08:30:57.274157",
     "status": "completed"
    },
    "tags": []
   },
   "outputs": [],
   "source": [
    "import pandas as pd\n",
    "import matplotlib.pyplot as plt\n",
    "import seaborn as sns \n",
    "\n",
    "# фиксируем RANDOM_SEED, чтобы эксперимент был воспроизводим!\n",
    "RANDOM_SEED = 42"
   ]
  },
  {
   "cell_type": "markdown",
   "id": "e2a10b74",
   "metadata": {
    "papermill": {
     "duration": 0.005089,
     "end_time": "2022-07-06T08:30:58.466379",
     "exception": false,
     "start_time": "2022-07-06T08:30:58.461290",
     "status": "completed"
    },
    "tags": []
   },
   "source": [
    "## Подгружаем данные"
   ]
  },
  {
   "cell_type": "code",
   "execution_count": 2,
   "id": "045134f3",
   "metadata": {
    "execution": {
     "iopub.execute_input": "2022-07-06T08:30:58.478928Z",
     "iopub.status.busy": "2022-07-06T08:30:58.478489Z",
     "iopub.status.idle": "2022-07-06T08:31:05.262621Z",
     "shell.execute_reply": "2022-07-06T08:31:05.261339Z"
    },
    "papermill": {
     "duration": 6.793472,
     "end_time": "2022-07-06T08:31:05.265108",
     "exception": false,
     "start_time": "2022-07-06T08:30:58.471636",
     "status": "completed"
    },
    "tags": []
   },
   "outputs": [
    {
     "name": "stdout",
     "output_type": "stream",
     "text": [
      "<class 'pandas.core.frame.DataFrame'>\n",
      "RangeIndex: 515738 entries, 0 to 515737\n",
      "Data columns (total 18 columns):\n",
      " #   Column                                      Non-Null Count   Dtype  \n",
      "---  ------                                      --------------   -----  \n",
      " 0   hotel_address                               515738 non-null  object \n",
      " 1   additional_number_of_scoring                515738 non-null  int64  \n",
      " 2   review_date                                 515738 non-null  object \n",
      " 3   average_score                               515738 non-null  float64\n",
      " 4   hotel_name                                  515738 non-null  object \n",
      " 5   reviewer_nationality                        515738 non-null  object \n",
      " 6   negative_review                             515738 non-null  object \n",
      " 7   review_total_negative_word_counts           515738 non-null  int64  \n",
      " 8   total_number_of_reviews                     515738 non-null  int64  \n",
      " 9   positive_review                             515738 non-null  object \n",
      " 10  review_total_positive_word_counts           515738 non-null  int64  \n",
      " 11  total_number_of_reviews_reviewer_has_given  515738 non-null  int64  \n",
      " 12  tags                                        515738 non-null  object \n",
      " 13  days_since_review                           515738 non-null  object \n",
      " 14  lat                                         512470 non-null  float64\n",
      " 15  lng                                         512470 non-null  float64\n",
      " 16  sample                                      515738 non-null  int64  \n",
      " 17  reviewer_score                              386803 non-null  float64\n",
      "dtypes: float64(4), int64(6), object(8)\n",
      "memory usage: 70.8+ MB\n"
     ]
    }
   ],
   "source": [
    "# Подгрузим наши данные из соревнования\n",
    "\n",
    "DATA_DIR = '/kaggle/input/sf-booking'\n",
    "df_train = pd.read_csv('/kaggle/input/sf-booking/hotels_train.csv') \n",
    "df_test = pd.read_csv('/kaggle/input/sf-booking/hotels_test.csv') \n",
    "sample_submission = pd.read_csv('/kaggle/input/sf-booking/submission.csv') \n",
    "\n",
    "df_train['sample'] = 1    # =1 метка train 66,666%\n",
    "df_test['sample'] = 0     # =0 метка test, НЕ train, 33,333%\n",
    "\n",
    "hotels=df_test.append(df_train, sort=False).reset_index(drop=True) # соединяем таблицы\n",
    "\n",
    "hotels.info()\n"
   ]
  },
  {
   "cell_type": "markdown",
   "id": "dd6947db",
   "metadata": {
    "papermill": {
     "duration": 0.005416,
     "end_time": "2022-07-06T08:31:05.275838",
     "exception": false,
     "start_time": "2022-07-06T08:31:05.270422",
     "status": "completed"
    },
    "tags": []
   },
   "source": [
    "## Обработка тегов"
   ]
  },
  {
   "cell_type": "code",
   "execution_count": 3,
   "id": "61150bc4",
   "metadata": {
    "execution": {
     "iopub.execute_input": "2022-07-06T08:31:05.290381Z",
     "iopub.status.busy": "2022-07-06T08:31:05.288068Z",
     "iopub.status.idle": "2022-07-06T08:31:16.907028Z",
     "shell.execute_reply": "2022-07-06T08:31:16.905852Z"
    },
    "papermill": {
     "duration": 11.628285,
     "end_time": "2022-07-06T08:31:16.909622",
     "exception": false,
     "start_time": "2022-07-06T08:31:05.281337",
     "status": "completed"
    },
    "tags": []
   },
   "outputs": [
    {
     "data": {
      "text/html": [
       "<div>\n",
       "<style scoped>\n",
       "    .dataframe tbody tr th:only-of-type {\n",
       "        vertical-align: middle;\n",
       "    }\n",
       "\n",
       "    .dataframe tbody tr th {\n",
       "        vertical-align: top;\n",
       "    }\n",
       "\n",
       "    .dataframe thead th {\n",
       "        text-align: right;\n",
       "    }\n",
       "</style>\n",
       "<table border=\"1\" class=\"dataframe\">\n",
       "  <thead>\n",
       "    <tr style=\"text-align: right;\">\n",
       "      <th></th>\n",
       "      <th>hotel_address</th>\n",
       "      <th>additional_number_of_scoring</th>\n",
       "      <th>review_date</th>\n",
       "      <th>average_score</th>\n",
       "      <th>hotel_name</th>\n",
       "      <th>reviewer_nationality</th>\n",
       "      <th>negative_review</th>\n",
       "      <th>review_total_negative_word_counts</th>\n",
       "      <th>total_number_of_reviews</th>\n",
       "      <th>positive_review</th>\n",
       "      <th>...</th>\n",
       "      <th>Deluxe Double Room</th>\n",
       "      <th>Double or Twin Room</th>\n",
       "      <th>Stayed 5 nights</th>\n",
       "      <th>Standard Double or Twin Room</th>\n",
       "      <th>Classic Double Room</th>\n",
       "      <th>Superior Double or Twin Room</th>\n",
       "      <th>2 rooms</th>\n",
       "      <th>Stayed 6 nights</th>\n",
       "      <th>Standard Twin Room</th>\n",
       "      <th>Single Room</th>\n",
       "    </tr>\n",
       "  </thead>\n",
       "  <tbody>\n",
       "    <tr>\n",
       "      <th>0</th>\n",
       "      <td>Via Senigallia 6 20161 Milan Italy</td>\n",
       "      <td>904</td>\n",
       "      <td>7/21/2017</td>\n",
       "      <td>8.1</td>\n",
       "      <td>Hotel Da Vinci</td>\n",
       "      <td>United Kingdom</td>\n",
       "      <td>Would have appreciated a shop in the hotel th...</td>\n",
       "      <td>52</td>\n",
       "      <td>16670</td>\n",
       "      <td>Hotel was great clean friendly staff free bre...</td>\n",
       "      <td>...</td>\n",
       "      <td>0</td>\n",
       "      <td>0</td>\n",
       "      <td>0</td>\n",
       "      <td>0</td>\n",
       "      <td>0</td>\n",
       "      <td>0</td>\n",
       "      <td>0</td>\n",
       "      <td>0</td>\n",
       "      <td>0</td>\n",
       "      <td>0</td>\n",
       "    </tr>\n",
       "    <tr>\n",
       "      <th>1</th>\n",
       "      <td>Arlandaweg 10 Westpoort 1043 EW Amsterdam Neth...</td>\n",
       "      <td>612</td>\n",
       "      <td>12/12/2016</td>\n",
       "      <td>8.6</td>\n",
       "      <td>Urban Lodge Hotel</td>\n",
       "      <td>Belgium</td>\n",
       "      <td>No tissue paper box was present at the room</td>\n",
       "      <td>10</td>\n",
       "      <td>5018</td>\n",
       "      <td>No Positive</td>\n",
       "      <td>...</td>\n",
       "      <td>0</td>\n",
       "      <td>0</td>\n",
       "      <td>0</td>\n",
       "      <td>0</td>\n",
       "      <td>0</td>\n",
       "      <td>0</td>\n",
       "      <td>0</td>\n",
       "      <td>0</td>\n",
       "      <td>0</td>\n",
       "      <td>0</td>\n",
       "    </tr>\n",
       "  </tbody>\n",
       "</table>\n",
       "<p>2 rows × 43 columns</p>\n",
       "</div>"
      ],
      "text/plain": [
       "                                       hotel_address  \\\n",
       "0                 Via Senigallia 6 20161 Milan Italy   \n",
       "1  Arlandaweg 10 Westpoort 1043 EW Amsterdam Neth...   \n",
       "\n",
       "   additional_number_of_scoring review_date  average_score         hotel_name  \\\n",
       "0                           904   7/21/2017            8.1     Hotel Da Vinci   \n",
       "1                           612  12/12/2016            8.6  Urban Lodge Hotel   \n",
       "\n",
       "  reviewer_nationality                                    negative_review  \\\n",
       "0      United Kingdom    Would have appreciated a shop in the hotel th...   \n",
       "1             Belgium         No tissue paper box was present at the room   \n",
       "\n",
       "   review_total_negative_word_counts  total_number_of_reviews  \\\n",
       "0                                 52                    16670   \n",
       "1                                 10                     5018   \n",
       "\n",
       "                                     positive_review  ...  Deluxe Double Room  \\\n",
       "0   Hotel was great clean friendly staff free bre...  ...                   0   \n",
       "1                                        No Positive  ...                   0   \n",
       "\n",
       "   Double or Twin Room Stayed 5 nights  Standard Double or Twin Room  \\\n",
       "0                    0               0                             0   \n",
       "1                    0               0                             0   \n",
       "\n",
       "   Classic Double Room  Superior Double or Twin Room  2 rooms Stayed 6 nights  \\\n",
       "0                    0                             0        0               0   \n",
       "1                    0                             0        0               0   \n",
       "\n",
       "   Standard Twin Room  Single Room  \n",
       "0                   0            0  \n",
       "1                   0            0  \n",
       "\n",
       "[2 rows x 43 columns]"
      ]
     },
     "execution_count": 3,
     "metadata": {},
     "output_type": "execute_result"
    }
   ],
   "source": [
    "import operator\n",
    "all_tags=dict()       # Создаем словарь\n",
    "def unpack_list(a):   # Ищем считаем совпадения\n",
    "    if type(a)==str:\n",
    "        al=list(a[3:-3].split(\" ', ' \"))\n",
    "        for element in al:\n",
    "            if element in all_tags:\n",
    "                all_tags[element]+=1\n",
    "            else: all_tags[element]=1\n",
    "        return(al)\n",
    "\n",
    "hotels['unpack_tags']=hotels['tags'].apply(unpack_list)\n",
    "# Сортируем тэги по полярности по убыванию\n",
    "sorted_tuples  = sorted(all_tags.items(), key=operator.itemgetter(1),reverse=True)\n",
    "all_tags_sorted = {k: v for k, v in sorted_tuples}\n",
    "\n",
    "# Выделяем 25 самых популярных тегов\n",
    "l25_items = list({k: all_tags_sorted[k] for k in list(all_tags_sorted)[:25]}.keys())\n",
    "\n",
    "# Добавляем признаки популярных тегов\n",
    "for tag in l25_items:\n",
    "    hotels[tag] = hotels['tags'].apply(lambda x: 1 if tag in x else 0)\n",
    "    \n",
    "# Удаляем категориальный признак    \n",
    "hotels=hotels.drop('tags',axis=1)\n",
    "\n",
    "hotels.head(2)"
   ]
  },
  {
   "cell_type": "markdown",
   "id": "fa6f0d16",
   "metadata": {
    "papermill": {
     "duration": 0.005444,
     "end_time": "2022-07-06T08:31:16.920776",
     "exception": false,
     "start_time": "2022-07-06T08:31:16.915332",
     "status": "completed"
    },
    "tags": []
   },
   "source": [
    "## Упорядочим отзывы, получим рейтинг:"
   ]
  },
  {
   "cell_type": "code",
   "execution_count": 4,
   "id": "0615baa3",
   "metadata": {
    "execution": {
     "iopub.execute_input": "2022-07-06T08:31:16.935100Z",
     "iopub.status.busy": "2022-07-06T08:31:16.933968Z",
     "iopub.status.idle": "2022-07-06T08:31:18.537257Z",
     "shell.execute_reply": "2022-07-06T08:31:18.536117Z"
    },
    "papermill": {
     "duration": 1.613104,
     "end_time": "2022-07-06T08:31:18.539952",
     "exception": false,
     "start_time": "2022-07-06T08:31:16.926848",
     "status": "completed"
    },
    "tags": []
   },
   "outputs": [
    {
     "data": {
      "text/html": [
       "<div>\n",
       "<style scoped>\n",
       "    .dataframe tbody tr th:only-of-type {\n",
       "        vertical-align: middle;\n",
       "    }\n",
       "\n",
       "    .dataframe tbody tr th {\n",
       "        vertical-align: top;\n",
       "    }\n",
       "\n",
       "    .dataframe thead th {\n",
       "        text-align: right;\n",
       "    }\n",
       "</style>\n",
       "<table border=\"1\" class=\"dataframe\">\n",
       "  <thead>\n",
       "    <tr style=\"text-align: right;\">\n",
       "      <th></th>\n",
       "      <th>hotel_address</th>\n",
       "      <th>additional_number_of_scoring</th>\n",
       "      <th>review_date</th>\n",
       "      <th>average_score</th>\n",
       "      <th>hotel_name</th>\n",
       "      <th>reviewer_nationality</th>\n",
       "      <th>review_total_negative_word_counts</th>\n",
       "      <th>total_number_of_reviews</th>\n",
       "      <th>review_total_positive_word_counts</th>\n",
       "      <th>total_number_of_reviews_reviewer_has_given</th>\n",
       "      <th>...</th>\n",
       "      <th>Double or Twin Room</th>\n",
       "      <th>Stayed 5 nights</th>\n",
       "      <th>Standard Double or Twin Room</th>\n",
       "      <th>Classic Double Room</th>\n",
       "      <th>Superior Double or Twin Room</th>\n",
       "      <th>2 rooms</th>\n",
       "      <th>Stayed 6 nights</th>\n",
       "      <th>Standard Twin Room</th>\n",
       "      <th>Single Room</th>\n",
       "      <th>rating</th>\n",
       "    </tr>\n",
       "  </thead>\n",
       "  <tbody>\n",
       "    <tr>\n",
       "      <th>0</th>\n",
       "      <td>Via Senigallia 6 20161 Milan Italy</td>\n",
       "      <td>904</td>\n",
       "      <td>7/21/2017</td>\n",
       "      <td>8.1</td>\n",
       "      <td>Hotel Da Vinci</td>\n",
       "      <td>United Kingdom</td>\n",
       "      <td>52</td>\n",
       "      <td>16670</td>\n",
       "      <td>62</td>\n",
       "      <td>1</td>\n",
       "      <td>...</td>\n",
       "      <td>0</td>\n",
       "      <td>0</td>\n",
       "      <td>0</td>\n",
       "      <td>0</td>\n",
       "      <td>0</td>\n",
       "      <td>0</td>\n",
       "      <td>0</td>\n",
       "      <td>0</td>\n",
       "      <td>0</td>\n",
       "      <td>0</td>\n",
       "    </tr>\n",
       "    <tr>\n",
       "      <th>1</th>\n",
       "      <td>Arlandaweg 10 Westpoort 1043 EW Amsterdam Neth...</td>\n",
       "      <td>612</td>\n",
       "      <td>12/12/2016</td>\n",
       "      <td>8.6</td>\n",
       "      <td>Urban Lodge Hotel</td>\n",
       "      <td>Belgium</td>\n",
       "      <td>10</td>\n",
       "      <td>5018</td>\n",
       "      <td>0</td>\n",
       "      <td>7</td>\n",
       "      <td>...</td>\n",
       "      <td>0</td>\n",
       "      <td>0</td>\n",
       "      <td>0</td>\n",
       "      <td>0</td>\n",
       "      <td>0</td>\n",
       "      <td>0</td>\n",
       "      <td>0</td>\n",
       "      <td>0</td>\n",
       "      <td>0</td>\n",
       "      <td>-1</td>\n",
       "    </tr>\n",
       "  </tbody>\n",
       "</table>\n",
       "<p>2 rows × 42 columns</p>\n",
       "</div>"
      ],
      "text/plain": [
       "                                       hotel_address  \\\n",
       "0                 Via Senigallia 6 20161 Milan Italy   \n",
       "1  Arlandaweg 10 Westpoort 1043 EW Amsterdam Neth...   \n",
       "\n",
       "   additional_number_of_scoring review_date  average_score         hotel_name  \\\n",
       "0                           904   7/21/2017            8.1     Hotel Da Vinci   \n",
       "1                           612  12/12/2016            8.6  Urban Lodge Hotel   \n",
       "\n",
       "  reviewer_nationality  review_total_negative_word_counts  \\\n",
       "0      United Kingdom                                  52   \n",
       "1             Belgium                                  10   \n",
       "\n",
       "   total_number_of_reviews  review_total_positive_word_counts  \\\n",
       "0                    16670                                 62   \n",
       "1                     5018                                  0   \n",
       "\n",
       "   total_number_of_reviews_reviewer_has_given  ... Double or Twin Room  \\\n",
       "0                                           1  ...                   0   \n",
       "1                                           7  ...                   0   \n",
       "\n",
       "   Stayed 5 nights  Standard Double or Twin Room  Classic Double Room  \\\n",
       "0                0                             0                    0   \n",
       "1                0                             0                    0   \n",
       "\n",
       "   Superior Double or Twin Room 2 rooms  Stayed 6 nights  Standard Twin Room  \\\n",
       "0                             0       0                0                   0   \n",
       "1                             0       0                0                   0   \n",
       "\n",
       "   Single Room  rating  \n",
       "0            0       0  \n",
       "1            0      -1  \n",
       "\n",
       "[2 rows x 42 columns]"
      ]
     },
     "execution_count": 4,
     "metadata": {},
     "output_type": "execute_result"
    }
   ],
   "source": [
    "#Хорошие в плохих или отсутствуют = 0, плохие = -1\n",
    "positive_list=['it was all good','no thing','all ok','not a thing','all was good','non','leaving','having to leave','','no', 'na','no negative', 'all good','n a','none','nil','All was good', 'All good', ' ']\n",
    "def unpack_negative_review(a):\n",
    "    a=a.strip().lower()\n",
    "    if a.find('nothing')>=0 or a.find('ything')>=0 or a in positive_list: return 0\n",
    "    return -1\n",
    "# Создаем рейтинговый столбец на базе анализа отзывов\n",
    "hotels['rating']=hotels['negative_review'].apply(unpack_negative_review)\n",
    "# Удаляем категориальный признак\n",
    "hotels=hotels.drop('negative_review',axis=1)\n",
    "\n",
    "#Плохие в хороших = 0, хорошие = 1\n",
    "def unpack_positive_review(a):\n",
    "    a=a.strip().lower()\n",
    "    if a=='no positive': return 0\n",
    "    return 1\n",
    "# Складываем результаты, изменяем рейтинг \n",
    "hotels['rating']=hotels['rating']+hotels['positive_review'].apply(unpack_positive_review)\n",
    "# Удаляем категориальный признак\n",
    "hotels=hotels.drop('positive_review',axis=1)\n",
    "\n",
    "hotels.head(2)"
   ]
  },
  {
   "cell_type": "markdown",
   "id": "d7d19151",
   "metadata": {
    "papermill": {
     "duration": 0.006078,
     "end_time": "2022-07-06T08:31:18.552312",
     "exception": false,
     "start_time": "2022-07-06T08:31:18.546234",
     "status": "completed"
    },
    "tags": []
   },
   "source": [
    "Рейтинг показывает, что:\n",
    "*     Отель, о котором отзываются положительно, имеет значение +1\n",
    "*     Отель, о котором есть и положительные и отрицательные отзывы, или никаких - не изменяется\n",
    "*     Отель, о котором отзываются отрицательно = -1"
   ]
  },
  {
   "cell_type": "markdown",
   "id": "ad7ff1cb",
   "metadata": {
    "papermill": {
     "duration": 0.005521,
     "end_time": "2022-07-06T08:31:18.564094",
     "exception": false,
     "start_time": "2022-07-06T08:31:18.558573",
     "status": "completed"
    },
    "tags": []
   },
   "source": [
    "### Мультиколлинеарность "
   ]
  },
  {
   "cell_type": "code",
   "execution_count": 5,
   "id": "340d291d",
   "metadata": {
    "execution": {
     "iopub.execute_input": "2022-07-06T08:31:18.577967Z",
     "iopub.status.busy": "2022-07-06T08:31:18.577585Z",
     "iopub.status.idle": "2022-07-06T08:31:21.526246Z",
     "shell.execute_reply": "2022-07-06T08:31:21.525284Z"
    },
    "papermill": {
     "duration": 2.959045,
     "end_time": "2022-07-06T08:31:21.529042",
     "exception": false,
     "start_time": "2022-07-06T08:31:18.569997",
     "status": "completed"
    },
    "tags": []
   },
   "outputs": [
    {
     "data": {
      "text/plain": [
       "<AxesSubplot:title={'center':'Корреляция'}>"
      ]
     },
     "execution_count": 5,
     "metadata": {},
     "output_type": "execute_result"
    },
    {
     "data": {
      "image/png": "[encoded data removed]",
      "text/plain": [
       "<Figure size 1008x504 with 2 Axes>"
      ]
     },
     "metadata": {
      "needs_background": "light"
     },
     "output_type": "display_data"
    }
   ],
   "source": [
    "plt.figure(figsize = (14,7))\n",
    "plt.title('Корреляция')\n",
    "sns.heatmap(hotels.corr(), annot=False, square=True, vmin=-1, vmax=1, center= 0, cmap= 'coolwarm', linewidths=1, linecolor='gray')"
   ]
  },
  {
   "cell_type": "code",
   "execution_count": 6,
   "id": "7468b5b5",
   "metadata": {
    "execution": {
     "iopub.execute_input": "2022-07-06T08:31:21.547024Z",
     "iopub.status.busy": "2022-07-06T08:31:21.545839Z",
     "iopub.status.idle": "2022-07-06T08:31:21.745658Z",
     "shell.execute_reply": "2022-07-06T08:31:21.744742Z"
    },
    "papermill": {
     "duration": 0.21144,
     "end_time": "2022-07-06T08:31:21.748333",
     "exception": false,
     "start_time": "2022-07-06T08:31:21.536893",
     "status": "completed"
    },
    "tags": []
   },
   "outputs": [],
   "source": [
    "# Удаляем тэги с сильной связью \n",
    "columns_for_delete=['Single Room','Double or Twin Room','Double Room','Solo traveler']\n",
    "hotels.drop(columns_for_delete, axis = 1, inplace=True)\n",
    "\n",
    "# убираем другие ненужные признаки \n",
    "object_columns = [s for s in hotels.columns if hotels[s].dtypes == 'object']\n",
    "hotels.drop(object_columns, axis = 1, inplace=True)\n",
    "\n",
    "# заполняем пропуски\n",
    "hotels = hotels.fillna(0)"
   ]
  },
  {
   "cell_type": "code",
   "execution_count": 7,
   "id": "288ac8fb",
   "metadata": {
    "execution": {
     "iopub.execute_input": "2022-07-06T08:31:21.765777Z",
     "iopub.status.busy": "2022-07-06T08:31:21.764752Z",
     "iopub.status.idle": "2022-07-06T08:31:21.977083Z",
     "shell.execute_reply": "2022-07-06T08:31:21.975840Z"
    },
    "papermill": {
     "duration": 0.224151,
     "end_time": "2022-07-06T08:31:21.979976",
     "exception": false,
     "start_time": "2022-07-06T08:31:21.755825",
     "status": "completed"
    },
    "tags": []
   },
   "outputs": [],
   "source": [
    "# Загружаем специальный инструмент для разбивки:  \n",
    "from sklearn.model_selection import train_test_split  "
   ]
  },
  {
   "cell_type": "code",
   "execution_count": 8,
   "id": "e0c6a366",
   "metadata": {
    "execution": {
     "iopub.execute_input": "2022-07-06T08:31:21.999329Z",
     "iopub.status.busy": "2022-07-06T08:31:21.998667Z",
     "iopub.status.idle": "2022-07-06T08:31:22.161275Z",
     "shell.execute_reply": "2022-07-06T08:31:22.160086Z"
    },
    "papermill": {
     "duration": 0.174585,
     "end_time": "2022-07-06T08:31:22.163865",
     "exception": false,
     "start_time": "2022-07-06T08:31:21.989280",
     "status": "completed"
    },
    "tags": []
   },
   "outputs": [],
   "source": [
    "#Делим данные \n",
    "train_data = hotels.query('sample == 1').drop(['sample'], axis=1)\n",
    "test_data = hotels.query('sample == 0').drop(['sample'], axis=1)\n",
    "\n",
    "y = train_data.reviewer_score.values            \n",
    "X = train_data.drop(['reviewer_score'], axis=1)"
   ]
  },
  {
   "cell_type": "code",
   "execution_count": 9,
   "id": "017000ea",
   "metadata": {
    "execution": {
     "iopub.execute_input": "2022-07-06T08:31:22.181402Z",
     "iopub.status.busy": "2022-07-06T08:31:22.181009Z",
     "iopub.status.idle": "2022-07-06T08:31:22.332245Z",
     "shell.execute_reply": "2022-07-06T08:31:22.330986Z"
    },
    "papermill": {
     "duration": 0.163183,
     "end_time": "2022-07-06T08:31:22.334990",
     "exception": false,
     "start_time": "2022-07-06T08:31:22.171807",
     "status": "completed"
    },
    "tags": []
   },
   "outputs": [],
   "source": [
    "# Наборы данных с меткой \"train\" будут использоваться для обучения модели, \"test\" - для тестирования.  \n",
    "# Для тестирования мы будем использовать 33% от исходного датасета.  \n",
    "X_train, X_test, y_train, y_test = train_test_split(X, y, test_size=0.33, random_state=RANDOM_SEED)"
   ]
  },
  {
   "cell_type": "code",
   "execution_count": 10,
   "id": "1c14d337",
   "metadata": {
    "execution": {
     "iopub.execute_input": "2022-07-06T08:31:22.352653Z",
     "iopub.status.busy": "2022-07-06T08:31:22.351794Z",
     "iopub.status.idle": "2022-07-06T08:35:27.348489Z",
     "shell.execute_reply": "2022-07-06T08:35:27.347347Z"
    },
    "papermill": {
     "duration": 245.008597,
     "end_time": "2022-07-06T08:35:27.351354",
     "exception": false,
     "start_time": "2022-07-06T08:31:22.342757",
     "status": "completed"
    },
    "tags": []
   },
   "outputs": [],
   "source": [
    "# Импортируем необходимые библиотеки:  \n",
    "from sklearn.ensemble import RandomForestRegressor # инструмент для создания и обучения модели  \n",
    "from sklearn import metrics                        # инструменты для оценки точности модели  \n",
    "  \n",
    "# Создаём модель  \n",
    "regr = RandomForestRegressor(n_estimators=100)  \n",
    "      \n",
    "# Обучаем модель на тестовом наборе данных  \n",
    "regr.fit(X_train, y_train)  \n",
    "      \n",
    "# Используем обученную модель для предсказания рейтинга отелей в тестовой выборке.  \n",
    "# Предсказанные значения записываем в переменную y_pred  \n",
    "y_pred = regr.predict(X_test)  \n"
   ]
  },
  {
   "cell_type": "code",
   "execution_count": 11,
   "id": "dc20aa52",
   "metadata": {
    "execution": {
     "iopub.execute_input": "2022-07-06T08:35:27.369082Z",
     "iopub.status.busy": "2022-07-06T08:35:27.368704Z",
     "iopub.status.idle": "2022-07-06T08:35:27.376716Z",
     "shell.execute_reply": "2022-07-06T08:35:27.375497Z"
    },
    "papermill": {
     "duration": 0.019775,
     "end_time": "2022-07-06T08:35:27.379196",
     "exception": false,
     "start_time": "2022-07-06T08:35:27.359421",
     "status": "completed"
    },
    "tags": []
   },
   "outputs": [
    {
     "name": "stdout",
     "output_type": "stream",
     "text": [
      "MAPE: 0.1354407540086937\n"
     ]
    }
   ],
   "source": [
    "# Сравниваем предсказанные значения (y_pred) с реальными (y_test), и смотрим насколько они отличаются  \n",
    "# Метрика называется Mean Absolute Percentage Error (MAPE) и показывает среднюю абсолютную процентную ошибку предсказанных значений от фактических.  \n",
    "print('MAPE:', metrics.mean_absolute_percentage_error(y_test, y_pred))"
   ]
  },
  {
   "cell_type": "code",
   "execution_count": 12,
   "id": "f83a5c4d",
   "metadata": {
    "execution": {
     "iopub.execute_input": "2022-07-06T08:35:27.396562Z",
     "iopub.status.busy": "2022-07-06T08:35:27.395794Z",
     "iopub.status.idle": "2022-07-06T08:35:35.961222Z",
     "shell.execute_reply": "2022-07-06T08:35:35.959992Z"
    },
    "papermill": {
     "duration": 8.577079,
     "end_time": "2022-07-06T08:35:35.963967",
     "exception": false,
     "start_time": "2022-07-06T08:35:27.386888",
     "status": "completed"
    },
    "tags": []
   },
   "outputs": [],
   "source": [
    "# Сабмиттим данные\n",
    "test_data = test_data.drop(['reviewer_score'], axis=1)\n",
    "predict_submission = regr.predict(test_data)\n",
    "sample_submission['reviewer_score'] = predict_submission\n",
    "sample_submission.to_csv('submission.csv', index=False)"
   ]
  }
 ],
 "metadata": {
  "kernelspec": {
   "display_name": "Python 3",
   "language": "python",
   "name": "python3"
  },
  "language_info": {
   "codemirror_mode": {
    "name": "ipython",
    "version": 3
   },
   "file_extension": ".py",
   "mimetype": "text/x-python",
   "name": "python",
   "nbconvert_exporter": "python",
   "pygments_lexer": "ipython3",
   "version": "3.7.12"
  },
  "papermill": {
   "default_parameters": {},
   "duration": 289.893624,
   "end_time": "2022-07-06T08:35:37.095525",
   "environment_variables": {},
   "exception": null,
   "input_path": "__notebook__.ipynb",
   "output_path": "__notebook__.ipynb",
   "parameters": {},
   "start_time": "2022-07-06T08:30:47.201901",
   "version": "2.3.4"
  }
 },
 "nbformat": 4,
 "nbformat_minor": 5
}
